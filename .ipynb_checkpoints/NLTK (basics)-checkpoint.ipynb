{
 "cells": [
  {
   "cell_type": "code",
   "execution_count": 1,
   "metadata": {},
   "outputs": [],
   "source": [
    "from nltk.corpus import brown"
   ]
  },
  {
   "cell_type": "code",
   "execution_count": 3,
   "metadata": {},
   "outputs": [
    {
     "name": "stdout",
     "output_type": "stream",
     "text": [
      "['adventure', 'belles_lettres', 'editorial', 'fiction', 'government', 'hobbies', 'humor', 'learned', 'lore', 'mystery', 'news', 'religion', 'reviews', 'romance', 'science_fiction']\n"
     ]
    }
   ],
   "source": [
    "#data collection\n",
    "print(brown.categories())\n"
   ]
  },
  {
   "cell_type": "code",
   "execution_count": 5,
   "metadata": {},
   "outputs": [
    {
     "name": "stdout",
     "output_type": "stream",
     "text": [
      "[['Thirty-three'], ['Scotty', 'did', 'not', 'go', 'back', 'to', 'school', '.'], ...]\n"
     ]
    }
   ],
   "source": [
    "data= brown.sents(categories='fiction')\n",
    "# here categories is optional parameter\n",
    "print(data)"
   ]
  },
  {
   "cell_type": "code",
   "execution_count": 6,
   "metadata": {},
   "outputs": [
    {
     "name": "stdout",
     "output_type": "stream",
     "text": [
      "4249\n"
     ]
    }
   ],
   "source": [
    "print(len(data))\n",
    "#length of this dataset"
   ]
  },
  {
   "cell_type": "code",
   "execution_count": 1,
   "metadata": {},
   "outputs": [],
   "source": [
    "#tockenization"
   ]
  },
  {
   "cell_type": "code",
   "execution_count": 21,
   "metadata": {},
   "outputs": [
    {
     "name": "stdout",
     "output_type": "stream",
     "text": [
      "it was a very pleasent day and the day was cool and their were light showers and i went to the market to buy goods.\n"
     ]
    }
   ],
   "source": [
    "text = \"it was a very pleasent day and the day was cool and their were light showers and i went to the market to buy goods.\"\n",
    "print(text)"
   ]
  },
  {
   "cell_type": "code",
   "execution_count": 4,
   "metadata": {},
   "outputs": [],
   "source": [
    "from nltk.tokenize import sent_tokenize,word_tokenize"
   ]
  },
  {
   "cell_type": "code",
   "execution_count": 5,
   "metadata": {},
   "outputs": [
    {
     "name": "stdout",
     "output_type": "stream",
     "text": [
      "['it was a very pleasent day and the day was cool and their were light showers and i went to the market to buy goods.']\n"
     ]
    }
   ],
   "source": [
    "sents = sent_tokenize(text)\n",
    "print(sents)"
   ]
  },
  {
   "cell_type": "code",
   "execution_count": 44,
   "metadata": {},
   "outputs": [
    {
     "name": "stdout",
     "output_type": "stream",
     "text": [
      "['it', 'was', 'a', 'very', 'pleasent', 'day', 'and', 'the', 'day', 'was', 'cool', 'and', 'their', 'were', 'light', 'showers', 'and', 'i', 'went', 'to', 'the', 'market', 'to', 'buy', 'goods', '.']\n"
     ]
    }
   ],
   "source": [
    "word_list=word_tokenize(sents[0].lower())\n",
    "print(word_list)"
   ]
  },
  {
   "cell_type": "code",
   "execution_count": 7,
   "metadata": {},
   "outputs": [],
   "source": [
    "#stopword removal"
   ]
  },
  {
   "cell_type": "code",
   "execution_count": 9,
   "metadata": {},
   "outputs": [],
   "source": [
    "from nltk.corpus import stopwords"
   ]
  },
  {
   "cell_type": "code",
   "execution_count": 11,
   "metadata": {},
   "outputs": [
    {
     "name": "stdout",
     "output_type": "stream",
     "text": [
      "179\n",
      "{\"isn't\", 'where', 'these', 'didn', 'no', 'ourselves', 'those', 't', 'as', 'why', 'to', 'in', 're', 'on', 'did', 'nor', 'just', 've', 'until', 'your', 'it', 'am', 'being', 'then', 'between', \"aren't\", 'because', \"didn't\", 'shan', 'had', 'about', 'does', \"she's\", 'a', \"weren't\", 'too', 'yourself', 'his', 'so', 'ours', 'who', 'we', 'through', 'ma', 'were', \"couldn't\", 'll', 'by', 'after', 'both', \"hasn't\", 'itself', 'or', 'of', 'doesn', 'the', 'there', 'my', \"that'll\", 'own', 'once', 'will', 'mustn', 'its', 'their', 'other', 'can', 'won', 'm', 'she', \"shouldn't\", 'me', 'hadn', 'same', 'against', 'not', 'down', 'for', 'this', \"shan't\", 'isn', 'during', 'wouldn', 'is', 'aren', 'only', 'most', 'more', \"you'd\", 'should', 'them', 'while', \"you're\", 'over', 'further', 'all', 'what', 'any', 'again', \"should've\", 'shouldn', 'myself', 'below', \"wasn't\", 'here', 'few', 'been', 'with', 'weren', \"hadn't\", 'very', \"mustn't\", \"you've\", 'above', \"mightn't\", \"haven't\", 'have', 'how', 'be', 'each', 'o', 'if', 'when', 'some', 'haven', \"won't\", 'up', 'd', 'and', 'do', 'themselves', 'yourselves', 'whom', 'hasn', 'her', 'you', 'mightn', 'our', 'but', 'from', 'wasn', 'him', 'theirs', 'are', 'ain', 's', 'was', 'which', 'he', \"it's\", 'off', 'doing', 'couldn', 'y', 'i', 'hers', 'into', 'that', \"you'll\", 'such', \"don't\", 'herself', \"doesn't\", \"needn't\", 'has', 'at', 'before', 'an', \"wouldn't\", 'having', 'they', 'than', 'under', 'needn', 'now', 'out', 'himself', 'don', 'yours'}\n"
     ]
    }
   ],
   "source": [
    "sw=set(stopwords.words('english'))\n",
    "print(len(sw))\n",
    "print(sw)"
   ]
  },
  {
   "cell_type": "code",
   "execution_count": 16,
   "metadata": {},
   "outputs": [
    {
     "name": "stdout",
     "output_type": "stream",
     "text": [
      "['pleasent', 'day', 'day', 'cool', 'light', 'showers', 'went', 'market', 'buy', 'goods', '.']\n"
     ]
    }
   ],
   "source": [
    "useful_words =[ w for w in word_list if w not in sw]\n",
    "print(useful_words)"
   ]
  },
  {
   "cell_type": "code",
   "execution_count": 17,
   "metadata": {},
   "outputs": [],
   "source": [
    "#tockenization using regular expression"
   ]
  },
  {
   "cell_type": "code",
   "execution_count": 31,
   "metadata": {},
   "outputs": [],
   "source": [
    "from nltk.tokenize import RegexpTokenizer"
   ]
  },
  {
   "cell_type": "code",
   "execution_count": 47,
   "metadata": {},
   "outputs": [
    {
     "name": "stdout",
     "output_type": "stream",
     "text": [
      "['it', 'was', 'a', 'very', 'pleasent', 'day', 'and', 'the', 'day', 'was', 'cool', 'and', 'their', 'were', 'light', 'showers', 'and', 'i', 'went', 'to', 'the', 'market', 'to', 'buy', 'goods']\n"
     ]
    }
   ],
   "source": [
    "tokenizer = RegexpTokenizer(\"[a-zA-Z@]+\")\n",
    "text = \"Send all the 50 documents related to clauses 1,2,3 at abc@xyz.com\"\n",
    "print(tokenizer.tokenize(text))"
   ]
  },
  {
   "cell_type": "markdown",
   "metadata": {},
   "source": [
    "##### Stemming"
   ]
  },
  {
   "cell_type": "code",
   "execution_count": 42,
   "metadata": {},
   "outputs": [],
   "source": [
    "from nltk.stem.snowball import PorterStemmer , SnowballStemmer\n",
    "from nltk.stem.lancaster import LancasterStemmer\n",
    "\n",
    "\n",
    "ps = PorterStemmer()"
   ]
  },
  {
   "cell_type": "code",
   "execution_count": 37,
   "metadata": {},
   "outputs": [
    {
     "data": {
      "text/plain": [
       "'jump'"
      ]
     },
     "execution_count": 37,
     "metadata": {},
     "output_type": "execute_result"
    }
   ],
   "source": [
    "ps.stem(\"jumped\")"
   ]
  },
  {
   "cell_type": "code",
   "execution_count": 38,
   "metadata": {},
   "outputs": [
    {
     "data": {
      "text/plain": [
       "'jump'"
      ]
     },
     "execution_count": 38,
     "metadata": {},
     "output_type": "execute_result"
    }
   ],
   "source": [
    "ps.stem(\"jumping\")"
   ]
  },
  {
   "cell_type": "code",
   "execution_count": 40,
   "metadata": {},
   "outputs": [
    {
     "data": {
      "text/plain": [
       "'tee'"
      ]
     },
     "execution_count": 40,
     "metadata": {},
     "output_type": "execute_result"
    }
   ],
   "source": [
    "ls = LancasterStemmer()\n",
    "ls.stem(\"teeth\")"
   ]
  },
  {
   "cell_type": "code",
   "execution_count": 41,
   "metadata": {},
   "outputs": [
    {
     "name": "stdout",
     "output_type": "stream",
     "text": [
      "teenag\n",
      "teen\n"
     ]
    }
   ],
   "source": [
    "print(ps.stem(\"teenager\"))\n",
    "print(ls.stem(\"teenager\"))"
   ]
  },
  {
   "cell_type": "code",
   "execution_count": 43,
   "metadata": {},
   "outputs": [
    {
     "name": "stdout",
     "output_type": "stream",
     "text": [
      "love\n",
      "teenag\n"
     ]
    }
   ],
   "source": [
    "ss= SnowballStemmer('english')\n",
    "print(ss.stem('lovely'))\n",
    "print(ss.stem('teenager'))"
   ]
  },
  {
   "cell_type": "code",
   "execution_count": 48,
   "metadata": {},
   "outputs": [],
   "source": [
    "#Lemmatizer\n",
    "#same as stemming"
   ]
  },
  {
   "cell_type": "code",
   "execution_count": 50,
   "metadata": {},
   "outputs": [
    {
     "data": {
      "text/plain": [
       "'cry'"
      ]
     },
     "execution_count": 50,
     "metadata": {},
     "output_type": "execute_result"
    }
   ],
   "source": [
    "from nltk.stem import WordNetLemmatizer\n",
    "l = WordNetLemmatizer()\n",
    "l.lemmatize(\"crying\")"
   ]
  },
  {
   "cell_type": "code",
   "execution_count": 63,
   "metadata": {},
   "outputs": [
    {
     "name": "stdout",
     "output_type": "stream",
     "text": [
      "it was a very pleasent day and the day was cool and their were light showers and i went to the market to buy goods\n",
      "['pleasent', 'day', 'cool', 'light', 'shower', 'went', 'market', 'buy', 'good']\n"
     ]
    }
   ],
   "source": [
    "def results(text):\n",
    "    sents = sent_tokenize(text)\n",
    "    word_list=word_tokenize(sents[0].lower())\n",
    "    #print(word_list)\n",
    "    sw=set(stopwords.words('english'))\n",
    "    useful_words =[ w for w in word_list if w not in sw]\n",
    "    #print(useful_words)\n",
    "    ss = SnowballStemmer('english')\n",
    "    stemmed_words=[]\n",
    "    \n",
    "    for a in useful_words:\n",
    "        word=ss.stem(a)\n",
    "        #print(word)\n",
    "        if word not in stemmed_words:\n",
    "            if word != \".\":\n",
    "                stemmed_words.append(word)\n",
    "                \n",
    "    print(text)            \n",
    "    print(stemmed_words)\n",
    "    \n",
    "text = \"it was a very pleasent day and the day was cool and their were light showers and i went to the market to buy goods\"\n",
    "results(text)"
   ]
  },
  {
   "cell_type": "code",
   "execution_count": null,
   "metadata": {},
   "outputs": [],
   "source": []
  }
 ],
 "metadata": {
  "kernelspec": {
   "display_name": "Python 3",
   "language": "python",
   "name": "python3"
  },
  "language_info": {
   "codemirror_mode": {
    "name": "ipython",
    "version": 3
   },
   "file_extension": ".py",
   "mimetype": "text/x-python",
   "name": "python",
   "nbconvert_exporter": "python",
   "pygments_lexer": "ipython3",
   "version": "3.7.2"
  }
 },
 "nbformat": 4,
 "nbformat_minor": 2
}
