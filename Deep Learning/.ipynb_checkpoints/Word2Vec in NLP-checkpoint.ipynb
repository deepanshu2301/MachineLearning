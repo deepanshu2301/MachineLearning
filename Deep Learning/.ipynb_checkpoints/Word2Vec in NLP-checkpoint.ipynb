{
 "cells": [
  {
   "cell_type": "code",
   "execution_count": 3,
   "metadata": {},
   "outputs": [],
   "source": [
    "import gensim\n",
    "import numpy as np\n",
    "from gensim.models import Word2Vec\n",
    "from gensim.models import KeyedVectors\n",
    "from sklearn.metrics.pairwise import cosine_similarity\n",
    "import nltk\n",
    "from nltk.corpus import stopwords"
   ]
  },
  {
   "cell_type": "code",
   "execution_count": 11,
   "metadata": {},
   "outputs": [
    {
     "name": "stdout",
     "output_type": "stream",
     "text": [
      "1\n",
      "[['priyanka', 'chopra', 'her', 'very', 'extravagant', 'wedding', 'nick', 'jonas', 'you', 'just', 'once', 'its', 'fine', 'priyanka', 'chopra', 'nick', 'jonas', 'celebrate', 'their', 'first', 'easter', 'priyanka', 'chopr', 'nick', 'jonas', 'sue', 'based', 'magazine', 'over', 'divorce', 'cover', 'story', 'report', 'priyanka', 'chopra', 'nick', 'jonas', 'ring', 'new', 'year', 'with', 'kiss', 'see', 'pic', 'video', 'this', 'first', 'thing', 'ranveer', 'singh', 'wishes', 'sees', 'deepika', 'padukone', 'long', 'trip', 'deepika', 'padukone', 'sweetest', 'things', 'say', 'getting', 'married', 'ranveer', 'singh', 'london', 'calling', 'ranveer', 'singh', 'wife', 'deepika', 'padukone']]\n"
     ]
    }
   ],
   "source": [
    "stopw = set(stopwords.words('english'))\n",
    "\n",
    "def readfile(file):\n",
    "    f = open(file,'r',encoding='utf8')\n",
    "    text = f.read()\n",
    "    sentences = nltk.sent_tokenize(text)\n",
    "    print(len(sentences))\n",
    "    \n",
    "    data =[]\n",
    "    for sent in sentences:\n",
    "        words = nltk.word_tokenize(sent)\n",
    "        words = [w.lower() for w in words if len(w)>2 and w not in stopw]\n",
    "        data.append(words)\n",
    "        \n",
    "    return data\n",
    "\n",
    "text = readfile(\"E:/Python Folder/bollywood.txt\")\n",
    "print(text)"
   ]
  },
  {
   "cell_type": "code",
   "execution_count": 12,
   "metadata": {},
   "outputs": [
    {
     "name": "stderr",
     "output_type": "stream",
     "text": [
      "c:\\users\\dipanshu\\appdata\\local\\programs\\python\\python37\\lib\\site-packages\\gensim\\models\\base_any2vec.py:743: UserWarning: C extension not loaded, training will be slow. Install a C compiler and reinstall gensim for fast training.\n",
      "  \"C extension not loaded, training will be slow. \"\n"
     ]
    },
    {
     "name": "stdout",
     "output_type": "stream",
     "text": [
      "Word2Vec(vocab=52, size=300, alpha=0.025)\n"
     ]
    }
   ],
   "source": [
    "from gensim.models import Word2Vec\n",
    "\n",
    "model = Word2Vec(text,size=300,window=10,min_count=1)\n",
    "\n",
    "print(model)"
   ]
  },
  {
   "cell_type": "code",
   "execution_count": 13,
   "metadata": {},
   "outputs": [
    {
     "name": "stdout",
     "output_type": "stream",
     "text": [
      "['priyanka', 'chopra', 'her', 'very', 'extravagant', 'wedding', 'nick', 'jonas', 'you', 'just', 'once', 'its', 'fine', 'celebrate', 'their', 'first', 'easter', 'chopr', 'sue', 'based', 'magazine', 'over', 'divorce', 'cover', 'story', 'report', 'ring', 'new', 'year', 'with', 'kiss', 'see', 'pic', 'video', 'this', 'thing', 'ranveer', 'singh', 'wishes', 'sees', 'deepika', 'padukone', 'long', 'trip', 'sweetest', 'things', 'say', 'getting', 'married', 'london', 'calling', 'wife']\n"
     ]
    }
   ],
   "source": [
    "words= list(model.wv.vocab)\n",
    "print(words)"
   ]
  },
  {
   "cell_type": "code",
   "execution_count": 14,
   "metadata": {},
   "outputs": [],
   "source": [
    "def predict_word(a,b,c,word_vectors):\n",
    "    a,b,c = a.lower(),b.lower(),c.lower()\n",
    "    \n",
    "    max_similarity =-100\n",
    "    d=None\n",
    "    words = word_vectors.vocab.keys()\n",
    "    wa,wb,wc = word_vectors[a],word_vectors[b],word_vectors[c]\n",
    "    \n",
    "    for w in words:\n",
    "        if w in [a,b,c]:\n",
    "            continue\n",
    "        wv = word_vectors[w]\n",
    "        sim = cosine_similarity([wb-wa],[wv-wc])\n",
    "        \n",
    "        if sim> max_similarity:\n",
    "            max_similarity = sim\n",
    "            d=w\n",
    "    return d"
   ]
  },
  {
   "cell_type": "code",
   "execution_count": 18,
   "metadata": {},
   "outputs": [
    {
     "data": {
      "text/plain": [
       "'their'"
      ]
     },
     "execution_count": 18,
     "metadata": {},
     "output_type": "execute_result"
    }
   ],
   "source": [
    "triad = (\"nick\",\"priyanka\",\"ranveer\")\n",
    "predict_word(*triad,model.wv)\n"
   ]
  },
  {
   "cell_type": "code",
   "execution_count": 19,
   "metadata": {},
   "outputs": [
    {
     "data": {
      "text/plain": [
       "'their'"
      ]
     },
     "execution_count": 19,
     "metadata": {},
     "output_type": "execute_result"
    }
   ],
   "source": [
    "\n",
    "triad = (\"nick\",\"deepika\",\"ranveer\")\n",
    "predict_word(*triad,model.wv)\n"
   ]
  },
  {
   "cell_type": "code",
   "execution_count": 20,
   "metadata": {},
   "outputs": [
    {
     "data": {
      "text/plain": [
       "'their'"
      ]
     },
     "execution_count": 20,
     "metadata": {},
     "output_type": "execute_result"
    }
   ],
   "source": [
    "\n",
    "triad = (\"nick\",\"jonas\",\"priyanka\")\n",
    "predict_word(*triad,model.wv)\n"
   ]
  },
  {
   "cell_type": "code",
   "execution_count": null,
   "metadata": {},
   "outputs": [],
   "source": []
  }
 ],
 "metadata": {
  "kernelspec": {
   "display_name": "Python 3",
   "language": "python",
   "name": "python3"
  },
  "language_info": {
   "codemirror_mode": {
    "name": "ipython",
    "version": 3
   },
   "file_extension": ".py",
   "mimetype": "text/x-python",
   "name": "python",
   "nbconvert_exporter": "python",
   "pygments_lexer": "ipython3",
   "version": "3.7.2"
  }
 },
 "nbformat": 4,
 "nbformat_minor": 2
}
