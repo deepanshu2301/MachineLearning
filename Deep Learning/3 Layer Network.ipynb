{
 "cells": [
  {
   "cell_type": "code",
   "execution_count": 1,
   "metadata": {},
   "outputs": [],
   "source": [
    "import numpy as np"
   ]
  },
  {
   "cell_type": "code",
   "execution_count": 2,
   "metadata": {},
   "outputs": [],
   "source": [
    "input_size=3  # no of features\n",
    "layers=[4,3] # no of neurons in first and second layer\n",
    "output_size=2"
   ]
  },
  {
   "cell_type": "code",
   "execution_count": 5,
   "metadata": {},
   "outputs": [],
   "source": [
    "def softmax(a):\n",
    "    e_pa = np.exp(a)\n",
    "    ans = e_pa/np.sum(ea,axis=1,keepdims=True)\n",
    "    return ans"
   ]
  },
  {
   "cell_type": "code",
   "execution_count": 3,
   "metadata": {},
   "outputs": [],
   "source": [
    "class NeuralNetwork:\n",
    "    \n",
    "    def __init__(self,input_size,layers,output_size):\n",
    "        np.random.seed(0)\n",
    "        \n",
    "        model={}\n",
    "        \n",
    "        model['W1'] = np.random.randn(input_size,layers[0])\n",
    "        model['b1'] = np.zeros((1,layers[0]))\n",
    "        \n",
    "        model['W2'] = np.random.randn(input_size,layers[0])\n",
    "        model['b2'] = np.zeros((1,layers[0]))\n",
    "        \n",
    "        model['W3'] = np.random.randn(input_size,layers[0])\n",
    "        model['b3'] = np.zeros((1,layers[0]))\n",
    "        \n",
    "        self.model=model\n",
    "    \n",
    "    def forward(self,x):\n",
    "        w1,w2,w3 = self.model['W1'],self.model['W2'],self.model['W3']\n",
    "        b1,b2,b3 = self.model['b1'],self.model['b2'],self.model['b3']\n",
    "        \n",
    "        z1=np.dot(x,w1) + b1\n",
    "        a1=np.tanh(z1)\n",
    "        \n",
    "        z2=np.dot(a1,w2) + bb\n",
    "        a2=np.tanh(z2)\n",
    "        \n",
    "        z3=np.dot(a2,w2) + b3\n",
    "        y_=np.tanh(z3)\n",
    "        "
   ]
  },
  {
   "cell_type": "code",
   "execution_count": 4,
   "metadata": {},
   "outputs": [
    {
     "name": "stdout",
     "output_type": "stream",
     "text": [
      "[[-0.09149777 -0.04059341 -0.26607906  0.20574522]\n",
      " [ 1.21447792  0.20768901 -1.11408524 -1.05522924]\n",
      " [-0.47096347  0.24774287  0.02187207  0.63037188]]\n"
     ]
    }
   ],
   "source": [
    "w1=np.random.randn(input_size,layers[0])\n",
    "print(w1)"
   ]
  },
  {
   "cell_type": "code",
   "execution_count": null,
   "metadata": {},
   "outputs": [],
   "source": []
  }
 ],
 "metadata": {
  "kernelspec": {
   "display_name": "Python 3",
   "language": "python",
   "name": "python3"
  },
  "language_info": {
   "codemirror_mode": {
    "name": "ipython",
    "version": 3
   },
   "file_extension": ".py",
   "mimetype": "text/x-python",
   "name": "python",
   "nbconvert_exporter": "python",
   "pygments_lexer": "ipython3",
   "version": "3.7.2"
  }
 },
 "nbformat": 4,
 "nbformat_minor": 2
}
