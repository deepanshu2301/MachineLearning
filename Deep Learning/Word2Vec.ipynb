{
 "cells": [
  {
   "cell_type": "code",
   "execution_count": 19,
   "metadata": {},
   "outputs": [],
   "source": [
    "import gensim\n",
    "import numpy as np\n",
    "from gensim.models import Word2Vec\n",
    "from gensim.models import KeyedVectors\n",
    "from sklearn.metrics.pairwise import cosine_similarity"
   ]
  },
  {
   "cell_type": "code",
   "execution_count": 20,
   "metadata": {},
   "outputs": [],
   "source": [
    "word_vectors = KeyedVectors.load_word2vec_format('E:/GoogleNews-vectors-negative300.bin',binary=True)"
   ]
  },
  {
   "cell_type": "code",
   "execution_count": 21,
   "metadata": {},
   "outputs": [
    {
     "name": "stdout",
     "output_type": "stream",
     "text": [
      "(300,)\n",
      "(300,)\n"
     ]
    }
   ],
   "source": [
    "v_apple=word_vectors[\"Apple\"]\n",
    "print(v_apple.shape)\n",
    "v_mango=word_vectors[\"Mango\"]\n",
    "print(v_mango.shape)"
   ]
  },
  {
   "cell_type": "code",
   "execution_count": 22,
   "metadata": {},
   "outputs": [
    {
     "data": {
      "text/plain": [
       "array([[0.2475584]], dtype=float32)"
      ]
     },
     "execution_count": 22,
     "metadata": {},
     "output_type": "execute_result"
    }
   ],
   "source": [
    "cosine_similarity([v_apple],[v_mango])"
   ]
  },
  {
   "cell_type": "code",
   "execution_count": 33,
   "metadata": {},
   "outputs": [],
   "source": [
    "def odd_one_out(words):\n",
    "    all_word_vector = [word_vectors[w] for w in words]\n",
    "    #print(len(all_word_vector))\n",
    "    #print(all_word_vector)\n",
    "    avg_vector = np.mean(all_word_vector,axis=0)\n",
    "    print(avg_vector.shape)\n",
    "    odd_one_out = None\n",
    "    min_similarity =1.0\n",
    "    for w in words:\n",
    "        sim = cosine_similarity([word_vectors[w]],[avg_vector])\n",
    "        if sim < min_similarity:\n",
    "            min_similarity= sim\n",
    "            odd_one_out=w\n",
    "        print(\"Similarity btw %s and avg vector is %0.2f\"%(w,sim))\n",
    "    return odd_one_out"
   ]
  },
  {
   "cell_type": "code",
   "execution_count": 34,
   "metadata": {},
   "outputs": [],
   "source": [
    "input_1 = [\"apple\",\"mango\",\"juice\",\"party\",\"orange\"]\n",
    "input_2 = [\"music\",\"dance\",\"sleep\",\"dancer\",\"food\"]\n",
    "input_3 = [\"match\",\"player\",\"football\",\"cricket\",\"dancer\"]\n",
    "input_4 = [\"india\",\"paris\",\"russia\",\"france\",\"germany\"]"
   ]
  },
  {
   "cell_type": "code",
   "execution_count": 35,
   "metadata": {},
   "outputs": [
    {
     "name": "stdout",
     "output_type": "stream",
     "text": [
      "(300,)\n",
      "Similarity btw apple and avg vector is 0.78\n",
      "Similarity btw mango and avg vector is 0.76\n",
      "Similarity btw juice and avg vector is 0.71\n",
      "Similarity btw party and avg vector is 0.36\n",
      "Similarity btw orange and avg vector is 0.65\n",
      "(300,)\n",
      "Similarity btw music and avg vector is 0.66\n",
      "Similarity btw dance and avg vector is 0.81\n",
      "Similarity btw sleep and avg vector is 0.51\n",
      "Similarity btw dancer and avg vector is 0.72\n",
      "Similarity btw food and avg vector is 0.52\n",
      "(300,)\n",
      "Similarity btw match and avg vector is 0.58\n",
      "Similarity btw player and avg vector is 0.68\n",
      "Similarity btw football and avg vector is 0.72\n",
      "Similarity btw cricket and avg vector is 0.70\n",
      "Similarity btw dancer and avg vector is 0.53\n",
      "(300,)\n",
      "Similarity btw india and avg vector is 0.81\n",
      "Similarity btw paris and avg vector is 0.75\n",
      "Similarity btw russia and avg vector is 0.79\n",
      "Similarity btw france and avg vector is 0.81\n",
      "Similarity btw germany and avg vector is 0.84\n"
     ]
    },
    {
     "data": {
      "text/plain": [
       "'paris'"
      ]
     },
     "execution_count": 35,
     "metadata": {},
     "output_type": "execute_result"
    }
   ],
   "source": [
    "odd_one_out(input_1)\n",
    "odd_one_out(input_2)\n",
    "odd_one_out(input_3)\n",
    "odd_one_out(input_4)"
   ]
  },
  {
   "cell_type": "code",
   "execution_count": 37,
   "metadata": {},
   "outputs": [],
   "source": [
    "def predict_word(a,b,c,word_vectors):\n",
    "    a,b,c = a.lower(),b.lower(),c.lower()\n",
    "    \n",
    "    max_similarity =-100\n",
    "    d=None\n",
    "    words = word_vectors.vocab.keys()\n",
    "    wa,wb,wc = word_vectors[a],word_vectors[b],word_vectors[c]\n",
    "    \n",
    "    for w in words:\n",
    "        if w in [a,b,c]:\n",
    "            continue\n",
    "        wv = word_vectors[w]\n",
    "        sim = cosine_similarity([wb-wa],[wv-wc])\n",
    "        \n",
    "        if sim> max_similarity:\n",
    "            max_similarity = sim\n",
    "            d=w\n",
    "    return d"
   ]
  },
  {
   "cell_type": "code",
   "execution_count": 38,
   "metadata": {},
   "outputs": [
    {
     "data": {
      "text/plain": [
       "'princess'"
      ]
     },
     "execution_count": 38,
     "metadata": {},
     "output_type": "execute_result"
    }
   ],
   "source": [
    "triad2 =(\"man\",\"woman\",\"prince\")\n",
    "predict_word(*triad2,word_vectors)"
   ]
  },
  {
   "cell_type": "code",
   "execution_count": null,
   "metadata": {},
   "outputs": [],
   "source": []
  },
  {
   "cell_type": "code",
   "execution_count": null,
   "metadata": {},
   "outputs": [],
   "source": []
  }
 ],
 "metadata": {
  "kernelspec": {
   "display_name": "Python 3",
   "language": "python",
   "name": "python3"
  },
  "language_info": {
   "codemirror_mode": {
    "name": "ipython",
    "version": 3
   },
   "file_extension": ".py",
   "mimetype": "text/x-python",
   "name": "python",
   "nbconvert_exporter": "python",
   "pygments_lexer": "ipython3",
   "version": "3.7.2"
  }
 },
 "nbformat": 4,
 "nbformat_minor": 2
}
