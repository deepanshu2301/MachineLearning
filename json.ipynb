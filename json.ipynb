{
 "cells": [
  {
   "cell_type": "code",
   "execution_count": 5,
   "metadata": {},
   "outputs": [
    {
     "name": "stdout",
     "output_type": "stream",
     "text": [
      "<class 'dict'>\n",
      "[{'name': 'A1', 'age': 30}, {'name': 'A2', 'age': 40}]\n"
     ]
    }
   ],
   "source": [
    "import json\n",
    "\n",
    "book = {\n",
    "    \"name\" : \"Learning Python\",\n",
    "    \"Pages\":320,\n",
    "    \"authors\" : [\n",
    "        {\n",
    "            \"name\":\"A1\",\n",
    "            \"age\":30\n",
    "        },\n",
    "        {\n",
    "            \"name\":\"A2\",\n",
    "            \"age\":40\n",
    "        }\n",
    "    ]\n",
    "}\n",
    "\n",
    "print(type(book))\n",
    "print(book[\"authors\"])"
   ]
  },
  {
   "cell_type": "code",
   "execution_count": 6,
   "metadata": {},
   "outputs": [],
   "source": [
    "with open(\"myJsonfile\",'w') as f:\n",
    "    json.dump(book,f)"
   ]
  },
  {
   "cell_type": "code",
   "execution_count": 9,
   "metadata": {},
   "outputs": [
    {
     "name": "stdout",
     "output_type": "stream",
     "text": [
      "{\"name\": \"Learning Python\", \"Pages\": 320, \"authors\": [{\"name\": \"A1\", \"age\": 30}, {\"name\": \"A2\", \"age\": 40}]}\n",
      "<class 'str'>\n"
     ]
    }
   ],
   "source": [
    "s=json.dumps(book)\n",
    "print(s)\n",
    "print(type(s))"
   ]
  },
  {
   "cell_type": "code",
   "execution_count": 10,
   "metadata": {},
   "outputs": [
    {
     "name": "stdout",
     "output_type": "stream",
     "text": [
      "{'name': 'Learning Python', 'Pages': 320, 'authors': [{'name': 'A1', 'age': 30}, {'name': 'A2', 'age': 40}]}\n",
      "<class 'dict'>\n"
     ]
    }
   ],
   "source": [
    "obj=json.loads(s)\n",
    "print(obj)\n",
    "print(type(obj))"
   ]
  },
  {
   "cell_type": "code",
   "execution_count": 12,
   "metadata": {},
   "outputs": [
    {
     "name": "stdout",
     "output_type": "stream",
     "text": [
      "{'Pages': 320,\n",
      " 'authors': [{'age': 30, 'name': 'A1'}, {'age': 40, 'name': 'A2'}],\n",
      " 'name': 'Learning Python'}\n"
     ]
    }
   ],
   "source": [
    "import pprint\n",
    "\n",
    "with open(\"myJsonfile\",'r') as f :\n",
    "    data= json.load(f)\n",
    "    pprint.pprint(data)"
   ]
  },
  {
   "cell_type": "code",
   "execution_count": null,
   "metadata": {},
   "outputs": [],
   "source": []
  }
 ],
 "metadata": {
  "kernelspec": {
   "display_name": "Python 3",
   "language": "python",
   "name": "python3"
  },
  "language_info": {
   "codemirror_mode": {
    "name": "ipython",
    "version": 3
   },
   "file_extension": ".py",
   "mimetype": "text/x-python",
   "name": "python",
   "nbconvert_exporter": "python",
   "pygments_lexer": "ipython3",
   "version": "3.7.2"
  }
 },
 "nbformat": 4,
 "nbformat_minor": 2
}
