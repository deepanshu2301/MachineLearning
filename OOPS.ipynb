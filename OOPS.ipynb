{
 "cells": [
  {
   "cell_type": "code",
   "execution_count": 7,
   "metadata": {},
   "outputs": [
    {
     "name": "stdout",
     "output_type": "stream",
     "text": [
      "Hello Deepanshu\n",
      "Hello, I am Deepanshu and i am from MAIT\n"
     ]
    }
   ],
   "source": [
    "class Person():\n",
    "    def __init__(self,name,clg):\n",
    "        self.name=name\n",
    "        self.clg=clg\n",
    "    \n",
    "    \n",
    "    def sayHi(self,name):\n",
    "        print(\"Hello \"+name)\n",
    "        \n",
    "    def introduce(self):\n",
    "        print(\"Hello, I am \"+self.name+\" and i am from \" +self.clg)\n",
    "        \n",
    "p=Person(\"Deepanshu\", \"MAIT\")\n",
    "p.sayHi(\"Deepanshu\")\n",
    "p.introduce()"
   ]
  },
  {
   "cell_type": "code",
   "execution_count": 16,
   "metadata": {},
   "outputs": [
    {
     "name": "stdout",
     "output_type": "stream",
     "text": [
      "German\n",
      "['Flip', 'roll-over']\n",
      "Gali ka kuta\n",
      "['jump', 'lye-down']\n"
     ]
    }
   ],
   "source": [
    "class Dog():\n",
    "    def __init__(self, breed):\n",
    "        self.breed=breed\n",
    "        self.activities=[]\n",
    "    \n",
    "    def addactivity(self,act):\n",
    "        self.activities.append(act)\n",
    "    \n",
    "    def doactivity(self):\n",
    "        print(self.breed)\n",
    "        print(self.activities)\n",
    "    \n",
    "d1=Dog(\"German\")\n",
    "d2=Dog(\"Gali ka kuta\")\n",
    "\n",
    "d1.addactivity(\"Flip\")\n",
    "d1.addactivity(\"roll-over\")\n",
    "\n",
    "d2.addactivity(\"jump\")\n",
    "d2.addactivity(\"lye-down\")\n",
    "\n",
    "d1.doactivity()\n",
    "d2.doactivity()\n"
   ]
  },
  {
   "cell_type": "markdown",
   "metadata": {},
   "source": [
    "INHERITANCE"
   ]
  },
  {
   "cell_type": "code",
   "execution_count": 24,
   "metadata": {},
   "outputs": [
    {
     "name": "stdout",
     "output_type": "stream",
     "text": [
      "Deepanshu\n",
      "20\n",
      "namita\n",
      "50\n",
      "1000\n"
     ]
    }
   ],
   "source": [
    "class schoolmember:\n",
    "    \n",
    "    def __init__(self,name,age):\n",
    "        self.name=name\n",
    "        self.age=age\n",
    "        \n",
    "    def introduce(self):\n",
    "        print(self.name)\n",
    "        print(self.age)\n",
    "        \n",
    "class teachers(schoolmember):\n",
    "    \n",
    "    \n",
    "    def __init__(self,name,age,salary):\n",
    "        schoolmember.__init__(self,name,age)\n",
    "        self.salary=salary\n",
    "        \n",
    "    def introduce(self):\n",
    "        schoolmember.introduce(self)\n",
    "        print(self.salary)\n",
    "        \n",
    "        \n",
    "s=schoolmember(\"Deepanshu\", 20)    \n",
    "s.introduce()\n",
    "t=teachers(\"namita\", 50, 1000)\n",
    "t.introduce()"
   ]
  },
  {
   "cell_type": "code",
   "execution_count": null,
   "metadata": {},
   "outputs": [],
   "source": []
  },
  {
   "cell_type": "code",
   "execution_count": null,
   "metadata": {},
   "outputs": [],
   "source": []
  },
  {
   "cell_type": "code",
   "execution_count": null,
   "metadata": {},
   "outputs": [],
   "source": []
  }
 ],
 "metadata": {
  "kernelspec": {
   "display_name": "Python 3",
   "language": "python",
   "name": "python3"
  },
  "language_info": {
   "codemirror_mode": {
    "name": "ipython",
    "version": 3
   },
   "file_extension": ".py",
   "mimetype": "text/x-python",
   "name": "python",
   "nbconvert_exporter": "python",
   "pygments_lexer": "ipython3",
   "version": "3.7.2"
  }
 },
 "nbformat": 4,
 "nbformat_minor": 2
}
