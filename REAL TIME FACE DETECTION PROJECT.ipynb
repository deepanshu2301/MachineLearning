{
 "cells": [
  {
   "cell_type": "code",
   "execution_count": 18,
   "metadata": {},
   "outputs": [],
   "source": [
    "import cv2\n",
    "import numpy as np\n",
    "import pandas as pd\n",
    "import matplotlib.pyplot as plt\n",
    "import os"
   ]
  },
  {
   "cell_type": "code",
   "execution_count": 15,
   "metadata": {},
   "outputs": [
    {
     "name": "stdout",
     "output_type": "stream",
     "text": [
      "Enter the name of person:deepanshu\n",
      "1\n",
      "2\n",
      "3\n",
      "4\n",
      "5\n",
      "6\n",
      "7\n",
      "8\n",
      "9\n",
      "(9, 30000)\n",
      "Data Saved :  ./data/deepanshu.npy\n"
     ]
    }
   ],
   "source": [
    "cap = cv2.VideoCapture(0)\n",
    "\n",
    "face_cascade=cv2.CascadeClassifier(\"haarcascade_frontalface_alt.xml\")\n",
    "\n",
    "skip=0\n",
    "face_data=[]\n",
    "\n",
    "dataset_path='./data/'\n",
    "\n",
    "file_name = input(\"Enter the name of person:\")\n",
    "while True:\n",
    "    \n",
    "    ret,frame = cap.read()\n",
    "    if ret==False:\n",
    "        continue\n",
    "    fray_frame=cv2.cvtColor(frame,cv2.COLOR_BGR2GRAY)\n",
    "    \n",
    "    #list of faces is \"faces\"\n",
    "    faces = face_cascade.detectMultiScale(frame,1.3,5)\n",
    "    faces=sorted(faces,key=lambda f:f[2]*f[3])\n",
    "    \n",
    "    for face in faces[-1:]:\n",
    "        x,y,w,h=face\n",
    "        cv2.rectangle(frame,(x,y),(x+w,y+h),(0,255,255),2)\n",
    "\n",
    "        #Cropping the required part\n",
    "        offset=10\n",
    "        face_section= frame[y-offset:y+h+offset,x-offset:x+w+offset]\n",
    "        face_section = cv2.resize(face_section,(100,100))\n",
    "        \n",
    "        skip+=1\n",
    "        \n",
    "        if(skip%10==0):\n",
    "            face_data.append(face_section)\n",
    "            print(len(face_data))\n",
    "    \n",
    "    cv2.imshow(\"Frame\",frame)\n",
    "    cv2.imshow(\"Face section\" , face_section)\n",
    "\n",
    "    if(skip%10==0):\n",
    "        pass \n",
    "    \n",
    "    key_pressed = cv2.waitKey(1) & 0xFF\n",
    "    if(key_pressed == ord('q')):\n",
    "        break\n",
    "        \n",
    "face_data = np.asarray(face_data)\n",
    "face_data = face_data.reshape((face_data.shape[0]),-1)\n",
    "print(face_data.shape)\n",
    "        \n",
    "np.save(dataset_path+file_name+'.npy',face_data)\n",
    "print(\"Data Saved : \" ,dataset_path+file_name+'.npy')\n",
    "cap.release()\n",
    "cv2.destroyAllWindows()\n"
   ]
  },
  {
   "cell_type": "code",
   "execution_count": 16,
   "metadata": {},
   "outputs": [],
   "source": [
    "def dist(x1,x2):\n",
    "        return np.sqrt(sum((x1-x2)**2))\n",
    "\n",
    "def knn(X,Y,querPoint,k=5):\n",
    "    vals=[]\n",
    "    m=X.shape[0]\n",
    "    \n",
    "    for i in range(m):\n",
    "        d=dist(querPoint,X[i])\n",
    "        vals.append((d,Y[i]))\n",
    "        \n",
    "        \n",
    "    vals=sorted(vals)\n",
    "    vals=vals[:k]\n",
    "    vals=np.array(vals)\n",
    "    \n",
    "    new_vals = np.unique(vals[:,1], return_counts=True)\n",
    "    print(new_vals)\n",
    "    \n",
    "    index = new_vals[1].argmax()\n",
    "    pred= new_vals[0][index]\n",
    "    return pred\n",
    "    "
   ]
  },
  {
   "cell_type": "code",
   "execution_count": 21,
   "metadata": {},
   "outputs": [
    {
     "name": "stdout",
     "output_type": "stream",
     "text": [
      "loadeddeepanshu.npy\n",
      "(9,)\n",
      "(9, 30000)\n"
     ]
    }
   ],
   "source": [
    "cap = cv2.VideoCapture(0)\n",
    "\n",
    "face_cascade=cv2.CascadeClassifier(\"haarcascade_frontalface_alt.xml\")\n",
    "\n",
    "skip=0\n",
    "face_data=[]\n",
    "labels=[]\n",
    "\n",
    "class_id=0\n",
    "names={}\n",
    "dataset_path='./data/'\n",
    "\n",
    "\n",
    "\n",
    "for fx in os.listdir(dataset_path):\n",
    "    if fx.endswith('.npy'):\n",
    "        print(\"loaded\"+fx)\n",
    "        data_item = np.load(dataset_path+fx)\n",
    "        face_data.append(data_item)\n",
    "    \n",
    "        target = class_id*np.ones((data_item.shape[0],))\n",
    "        class_id+=1\n",
    "        labels.append(target)\n",
    "\n",
    "face_dataset = np.concatenate(face_data,axis=0)\n",
    "face_labels = np.concatenate(labels,axis=0)\n",
    "\n",
    "print(face_labels.shape)\n",
    "print(face_dataset.shape)"
   ]
  },
  {
   "cell_type": "code",
   "execution_count": null,
   "metadata": {},
   "outputs": [],
   "source": []
  }
 ],
 "metadata": {
  "kernelspec": {
   "display_name": "Python 3",
   "language": "python",
   "name": "python3"
  },
  "language_info": {
   "codemirror_mode": {
    "name": "ipython",
    "version": 3
   },
   "file_extension": ".py",
   "mimetype": "text/x-python",
   "name": "python",
   "nbconvert_exporter": "python",
   "pygments_lexer": "ipython3",
   "version": "3.7.2"
  }
 },
 "nbformat": 4,
 "nbformat_minor": 2
}
